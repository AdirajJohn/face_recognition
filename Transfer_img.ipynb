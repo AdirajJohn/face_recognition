{
 "cells": [
  {
   "cell_type": "code",
   "execution_count": 19,
   "metadata": {},
   "outputs": [],
   "source": [
    "import os\n",
    "import shutil"
   ]
  },
  {
   "cell_type": "markdown",
   "metadata": {},
   "source": [
    "#### Get all the files from the folder"
   ]
  },
  {
   "cell_type": "code",
   "execution_count": 20,
   "metadata": {},
   "outputs": [
    {
     "name": "stdout",
     "output_type": "stream",
     "text": [
      "5749\n"
     ]
    }
   ],
   "source": [
    "folder_path=\"D:/lfw-deepfunneled/lfw-deepfunneled\"\n",
    "files = os.listdir(folder_path)\n",
    "print(len(files))\n"
   ]
  },
  {
   "cell_type": "code",
   "execution_count": 21,
   "metadata": {},
   "outputs": [
    {
     "ename": "IndexError",
     "evalue": "list index out of range",
     "output_type": "error",
     "traceback": [
      "\u001b[1;31m---------------------------------------------------------------------------\u001b[0m",
      "\u001b[1;31mIndexError\u001b[0m                                Traceback (most recent call last)",
      "\u001b[1;32md:\\repository\\face_recognition\\Transfer_img.ipynb Cell 4\u001b[0m line \u001b[0;36m6\n\u001b[0;32m      <a href='vscode-notebook-cell:/d%3A/repository/face_recognition/Transfer_img.ipynb#W3sZmlsZQ%3D%3D?line=2'>3</a>\u001b[0m \u001b[39mfor\u001b[39;00m i \u001b[39min\u001b[39;00m files:\n\u001b[0;32m      <a href='vscode-notebook-cell:/d%3A/repository/face_recognition/Transfer_img.ipynb#W3sZmlsZQ%3D%3D?line=3'>4</a>\u001b[0m     \u001b[39m#src_path=folder_path+\"/\"+str(i)\u001b[39;00m\n\u001b[0;32m      <a href='vscode-notebook-cell:/d%3A/repository/face_recognition/Transfer_img.ipynb#W3sZmlsZQ%3D%3D?line=4'>5</a>\u001b[0m     img\u001b[39m=\u001b[39mos\u001b[39m.\u001b[39mlistdir(folder_path\u001b[39m+\u001b[39m\u001b[39m\"\u001b[39m\u001b[39m/\u001b[39m\u001b[39m\"\u001b[39m\u001b[39m+\u001b[39m\u001b[39mstr\u001b[39m(i))\n\u001b[1;32m----> <a href='vscode-notebook-cell:/d%3A/repository/face_recognition/Transfer_img.ipynb#W3sZmlsZQ%3D%3D?line=5'>6</a>\u001b[0m     src_path\u001b[39m=\u001b[39mfolder_path\u001b[39m+\u001b[39m\u001b[39m\"\u001b[39m\u001b[39m/\u001b[39m\u001b[39m\"\u001b[39m\u001b[39m+\u001b[39m\u001b[39mstr\u001b[39m(i)\u001b[39m+\u001b[39m\u001b[39m\"\u001b[39m\u001b[39m/\u001b[39m\u001b[39m\"\u001b[39m\u001b[39m+\u001b[39m\u001b[39mstr\u001b[39m(img[\u001b[39m0\u001b[39;49m])\n\u001b[0;32m      <a href='vscode-notebook-cell:/d%3A/repository/face_recognition/Transfer_img.ipynb#W3sZmlsZQ%3D%3D?line=6'>7</a>\u001b[0m     \u001b[39m#src_path2=os.path.join(folder_path+\"/\"+str(i),str(img[0]))\u001b[39;00m\n\u001b[0;32m      <a href='vscode-notebook-cell:/d%3A/repository/face_recognition/Transfer_img.ipynb#W3sZmlsZQ%3D%3D?line=7'>8</a>\u001b[0m     dest_path\u001b[39m=\u001b[39mdestin_folder\u001b[39m+\u001b[39m\u001b[39m\"\u001b[39m\u001b[39m/\u001b[39m\u001b[39m\"\u001b[39m\u001b[39m+\u001b[39m\u001b[39mstr\u001b[39m(img[\u001b[39m0\u001b[39m])\n",
      "\u001b[1;31mIndexError\u001b[0m: list index out of range"
     ]
    }
   ],
   "source": [
    "destin_folder=\"D:/FACE\"\n",
    "count=0\n",
    "for i in files:\n",
    "    #src_path=folder_path+\"/\"+str(i)\n",
    "    img=os.listdir(folder_path+\"/\"+str(i))\n",
    "    src_path=folder_path+\"/\"+str(i)+\"/\"+str(img[0])\n",
    "    #src_path2=os.path.join(folder_path+\"/\"+str(i),str(img[0]))\n",
    "    dest_path=destin_folder+\"/\"+str(img[0])\n",
    "    print(dest_path)\n",
    "    # Use shutil.move() to move the file(s)\n",
    "    shutil.move(src_path, dest_path)\n",
    "    count=count+1\n",
    "    if count==150:\n",
    "        break"
   ]
  },
  {
   "cell_type": "code",
   "execution_count": null,
   "metadata": {},
   "outputs": [],
   "source": []
  }
 ],
 "metadata": {
  "kernelspec": {
   "display_name": "Python 3",
   "language": "python",
   "name": "python3"
  },
  "language_info": {
   "codemirror_mode": {
    "name": "ipython",
    "version": 3
   },
   "file_extension": ".py",
   "mimetype": "text/x-python",
   "name": "python",
   "nbconvert_exporter": "python",
   "pygments_lexer": "ipython3",
   "version": "3.10.10"
  },
  "orig_nbformat": 4
 },
 "nbformat": 4,
 "nbformat_minor": 2
}
